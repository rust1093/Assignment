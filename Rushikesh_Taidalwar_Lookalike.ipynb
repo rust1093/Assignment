{
 "cells": [
  {
   "cell_type": "code",
   "execution_count": 2,
   "id": "c49d15c5-4272-4793-84ad-fb478abc645b",
   "metadata": {},
   "outputs": [],
   "source": [
    "import pandas as pd\n",
    "\n",
    "\n",
    "customers = pd.read_csv(\"Customers.csv\")\n",
    "products = pd.read_csv(\"Products.csv\")\n",
    "transactions = pd.read_csv(\"Transactions.csv\")"
   ]
  },
  {
   "cell_type": "code",
   "execution_count": 8,
   "id": "d2e8abf6-0fef-40e0-a607-ad450c8f298a",
   "metadata": {},
   "outputs": [],
   "source": [
    "import pandas as pd\n",
    "from sklearn.preprocessing import StandardScaler, OneHotEncoder\n",
    "from sklearn.metrics.pairwise import cosine_similarity\n",
    "\n",
    "\n",
    "customers = pd.read_csv(\"Customers.csv\")\n",
    "products = pd.read_csv(\"Products.csv\")\n",
    "transactions = pd.read_csv(\"Transactions.csv\")\n",
    "\n",
    "\n",
    "customers[\"SignupDate\"] = pd.to_datetime(customers[\"SignupDate\"])\n",
    "transactions[\"TransactionDate\"] = pd.to_datetime(transactions[\"TransactionDate\"])\n",
    "\n",
    "\n",
    "merged_data = pd.merge(transactions, customers, on=\"CustomerID\", how=\"left\")\n",
    "merged_data = pd.merge(merged_data, products, on=\"ProductID\", how=\"left\")\n",
    "\n",
    "\n",
    "customer_last_transaction = merged_data.groupby(\"CustomerID\")[\"TransactionDate\"].max().reset_index()\n",
    "customer_features = pd.merge(customers, customer_last_transaction, on=\"CustomerID\")\n",
    "customer_features[\"Tenure\"] = (customer_features[\"TransactionDate\"] - customer_features[\"SignupDate\"]).dt.days"
   ]
  },
  {
   "cell_type": "code",
   "execution_count": 10,
   "id": "cba6141e-9d08-4719-a544-376686959adc",
   "metadata": {},
   "outputs": [],
   "source": [
    "\n",
    "\n",
    "\n",
    "transaction_agg = merged_data.groupby(\"CustomerID\").agg(\n",
    "    TotalTransactions=(\"TransactionID\", \"count\"),\n",
    "    TotalSpend=(\"TotalValue\", \"sum\"),\n",
    "    AvgTransactionValue=(\"TotalValue\", \"mean\"),\n",
    "    FavoriteCategory=(\"Category\", lambda x: x.mode()[0]),\n",
    "    AvgProductPrice=(\"Price_y\", \"mean\"),\n",
    "    UniqueProducts=(\"ProductID\", \"nunique\")\n",
    ").reset_index()\n",
    "\n",
    "\n",
    "customer_features = pd.merge(customer_features, transaction_agg, on=\"CustomerID\")"
   ]
  },
  {
   "cell_type": "code",
   "execution_count": 12,
   "id": "1256b696-2141-4714-9b79-d21884a509fc",
   "metadata": {},
   "outputs": [],
   "source": [
    "\n",
    "encoder = OneHotEncoder(sparse_output=False)\n",
    "encoded_region = encoder.fit_transform(customer_features[[\"Region\"]])\n",
    "encoded_region_df = pd.DataFrame(encoded_region, columns=encoder.get_feature_names_out([\"Region\"]))\n",
    "\n",
    "\n",
    "numerical_features = customer_features[[\"Tenure\", \"TotalSpend\", \"AvgTransactionValue\", \"AvgProductPrice\", \"UniqueProducts\"]]\n",
    "scaler = StandardScaler()\n",
    "scaled_numerical = scaler.fit_transform(numerical_features)\n",
    "scaled_numerical_df = pd.DataFrame(scaled_numerical, columns=numerical_features.columns)\n",
    "\n",
    "final_features = pd.concat([customer_features[\"CustomerID\"], encoded_region_df, scaled_numerical_df], axis=1)"
   ]
  },
  {
   "cell_type": "code",
   "execution_count": 14,
   "id": "b0669223-a1ef-4f17-8dd2-326704e6d27c",
   "metadata": {},
   "outputs": [],
   "source": [
    "\n",
    "similarity_matrix = cosine_similarity(final_features.drop(\"CustomerID\", axis=1))\n",
    "\n",
    "\n",
    "customer_id_to_index = {cust_id: idx for idx, cust_id in enumerate(final_features[\"CustomerID\"])}\n",
    "\n",
    "\n",
    "lookalike_map = {}\n",
    "target_customers = [f\"C{str(i).zfill(4)}\" for i in range(1, 21)]\n",
    "\n",
    "for cust_id in target_customers:\n",
    "    if cust_id not in customer_id_to_index:\n",
    "        continue  \n",
    "    idx = customer_id_to_index[cust_id]\n",
    "    similarities = list(enumerate(similarity_matrix[idx]))\n",
    "    similarities = sorted(similarities, key=lambda x: x[1], reverse=True)\n",
    "  \n",
    "    top_matches = [item for item in similarities if final_features.iloc[item[0]][\"CustomerID\"] != cust_id][:3]\n",
    "    lookalike_map[cust_id] = [\n",
    "        (final_features.iloc[match[0]][\"CustomerID\"], round(match[1], 3))\n",
    "        for match in top_matches\n",
    "    ]"
   ]
  },
  {
   "cell_type": "code",
   "execution_count": 16,
   "id": "aa2abba3-affb-4a9b-b341-733580b37484",
   "metadata": {},
   "outputs": [],
   "source": [
    "\n",
    "import csv\n",
    "\n",
    "with open(\"FirstName_LastName_Lookalike.csv\", \"w\", newline=\"\") as csvfile:\n",
    "    writer = csv.writer(csvfile)\n",
    "    writer.writerow([\"CustomerID\", \"Lookalikes\"])\n",
    "    for cust_id, matches in lookalike_map.items():\n",
    "        lookalikes_str = \", \".join([f\"({match[0]}, {match[1]})\" for match in matches])\n",
    "        writer.writerow([cust_id, lookalikes_str])"
   ]
  },
  {
   "cell_type": "code",
   "execution_count": null,
   "id": "492f0600-3666-491b-a74b-79e066982d06",
   "metadata": {},
   "outputs": [],
   "source": []
  }
 ],
 "metadata": {
  "kernelspec": {
   "display_name": "Python 3 (ipykernel)",
   "language": "python",
   "name": "python3"
  },
  "language_info": {
   "codemirror_mode": {
    "name": "ipython",
    "version": 3
   },
   "file_extension": ".py",
   "mimetype": "text/x-python",
   "name": "python",
   "nbconvert_exporter": "python",
   "pygments_lexer": "ipython3",
   "version": "3.12.4"
  }
 },
 "nbformat": 4,
 "nbformat_minor": 5
}
